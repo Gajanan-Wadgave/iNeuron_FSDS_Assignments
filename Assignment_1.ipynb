{
 "cells": [
  {
   "cell_type": "markdown",
   "id": "f7d8c1dd",
   "metadata": {},
   "source": [
    "1. In the below elements which of them are values or an expression? eg:- values can be\n",
    "integer or string and expressions will be mathematical operators."
   ]
  },
  {
   "cell_type": "code",
   "execution_count": null,
   "id": "dd7dcf47",
   "metadata": {},
   "outputs": [],
   "source": [
    "* = Expression\n",
    "'hello' = Value\n",
    "-87.8 = Value\n",
    "- = Expression\n",
    "/ = Expression\n",
    "+ = Expression\n",
    "6 = Value"
   ]
  },
  {
   "cell_type": "markdown",
   "id": "b45266f9",
   "metadata": {},
   "source": [
    "2. What is the difference between string and variable?"
   ]
  },
  {
   "cell_type": "raw",
   "id": "a867ac80",
   "metadata": {},
   "source": [
    "String : String is a value represented by text. \n",
    "Variable :  A Variable is name which can store any value. A variable is name of location in primary memory where value is stored."
   ]
  },
  {
   "cell_type": "markdown",
   "id": "7a9e27a2",
   "metadata": {},
   "source": [
    "3. Describe three different data types."
   ]
  },
  {
   "cell_type": "raw",
   "id": "b50c0433",
   "metadata": {},
   "source": [
    "There are five different data types in Python which are as follows :\n",
    "    \n",
    "1. Numbers Type\n",
    "\n",
    "Numbers data type store nummeric values. Numbers data type can store three different type of numeric values i.e. integers,\n",
    "float and complex values.\n",
    "\n",
    "Ex.  10, 20.9, 123, 1234.21, 2.0 + 2.3j, 89j\n",
    "\n",
    "\n",
    "3. Sequence Data Types \n",
    "\n",
    "There are three different types of Sequence Data types \n",
    "a. String\n",
    "\n",
    "The string is sequence of characters represented in the quotation marks. In Python, we can use single, double, \n",
    "or triple quotes to define a string.\n",
    "\n",
    "Ex. 'gajanan', 'iNeuron', '128736'\n",
    "\n",
    "\n",
    "b. List\n",
    "\n",
    "The list is data type in which items are stored in a square bracket seperated by comma.\n",
    "\n",
    "Ex. [1,2,3,4,'Gajanan']\n",
    "    ['iNeuron', 23,432,12.23]\n",
    "    \n",
    "c. Tuple\n",
    "\n",
    "The tuple is similar to List data type. Items are stored in simple bracket seperated by comma in tuple. Tuple is read \n",
    "only data type because we can't modify the size and value of the items of a tuple.\n",
    "\n",
    "Ex. (a, 'Python', '12345')\n",
    "    (12, 1123.5, 'Hi')\n",
    "    \n",
    "3. Boolean \n",
    "\n",
    "There are only two built-in values for Boolean data type i.e. True and False. These values determine weather a statement is true or false.\n",
    "\n"
   ]
  },
  {
   "cell_type": "markdown",
   "id": "5dac3242",
   "metadata": {},
   "source": [
    "4. What is an expression made up of? What do all expressions do?"
   ]
  },
  {
   "cell_type": "code",
   "execution_count": null,
   "id": "ffcc9c0b",
   "metadata": {},
   "outputs": [],
   "source": [
    "An expression is a combination of operators and operands that are evaluated to produce other value.\n",
    "\n",
    "Ex. 1. x = 15 + 1.3\n",
    "    2. c = a + b "
   ]
  },
  {
   "cell_type": "markdown",
   "id": "a473fe30",
   "metadata": {},
   "source": [
    "5. This assignment statements, like spam = 10. What is the difference between an expression and a statement?"
   ]
  },
  {
   "cell_type": "code",
   "execution_count": null,
   "id": "ca726939",
   "metadata": {},
   "outputs": [],
   "source": [
    "An assignment statement assigns a value to a variable. In spam = 10 , the value 10 is assigned to variable named spam.\n",
    "\n",
    "A expression a is combination of operands and operators that are evaluated to a single value. A expression should atleast \n",
    "one operator and two operands."
   ]
  },
  {
   "cell_type": "markdown",
   "id": "08fb9454",
   "metadata": {},
   "source": [
    "6. After running the following code, what does the variable bacon contain?\n",
    "\n",
    "bacon = 22\n",
    "bacon + 1"
   ]
  },
  {
   "cell_type": "code",
   "execution_count": 2,
   "id": "c668f5dd",
   "metadata": {},
   "outputs": [
    {
     "data": {
      "text/plain": [
       "23"
      ]
     },
     "execution_count": 2,
     "metadata": {},
     "output_type": "execute_result"
    }
   ],
   "source": [
    "\n",
    "bacon = 22\n",
    "bacon + 1"
   ]
  },
  {
   "cell_type": "code",
   "execution_count": 3,
   "id": "4459e232",
   "metadata": {},
   "outputs": [
    {
     "data": {
      "text/plain": [
       "22"
      ]
     },
     "execution_count": 3,
     "metadata": {},
     "output_type": "execute_result"
    }
   ],
   "source": [
    "bacon"
   ]
  },
  {
   "cell_type": "code",
   "execution_count": null,
   "id": "c249f016",
   "metadata": {},
   "outputs": [],
   "source": [
    "bacon contains 22 after running the given code.\n"
   ]
  },
  {
   "cell_type": "raw",
   "id": "02fa8b44",
   "metadata": {},
   "source": [
    "7. What should the values of the following two terms be?\n",
    "'spam' + 'spamspam'\n",
    "'spam' * 3"
   ]
  },
  {
   "cell_type": "code",
   "execution_count": 1,
   "id": "b4df6c90",
   "metadata": {},
   "outputs": [
    {
     "data": {
      "text/plain": [
       "'spamspamspam'"
      ]
     },
     "execution_count": 1,
     "metadata": {},
     "output_type": "execute_result"
    }
   ],
   "source": [
    "'spam' + 'spamspam'"
   ]
  },
  {
   "cell_type": "code",
   "execution_count": 2,
   "id": "5c6c461f",
   "metadata": {},
   "outputs": [
    {
     "data": {
      "text/plain": [
       "'spamspamspam'"
      ]
     },
     "execution_count": 2,
     "metadata": {},
     "output_type": "execute_result"
    }
   ],
   "source": [
    "'spam' * 3"
   ]
  },
  {
   "cell_type": "markdown",
   "id": "bfad9491",
   "metadata": {},
   "source": [
    "8. Why is eggs a valid variable name while 100 is invalid?"
   ]
  },
  {
   "cell_type": "raw",
   "id": "54a10d51",
   "metadata": {},
   "source": [
    "eggs is valid variable because it starts with a alphabet. In Python we cannot create a variable starting with a number.\n",
    "That is why eggs is a valid variable while 100 is not."
   ]
  },
  {
   "cell_type": "markdown",
   "id": "f9635268",
   "metadata": {},
   "source": [
    "9. What three functions can be used to get the integer, floating-point number, or string versions of a value?"
   ]
  },
  {
   "cell_type": "code",
   "execution_count": null,
   "id": "755be6d7",
   "metadata": {},
   "outputs": [],
   "source": [
    "The int() , float() , and str( ) functions will give the integer, floating-point number, and string versions \n",
    "of the value passed to them."
   ]
  },
  {
   "cell_type": "code",
   "execution_count": 4,
   "id": "22245ab0",
   "metadata": {},
   "outputs": [
    {
     "name": "stdout",
     "output_type": "stream",
     "text": [
      "99\n",
      "99.0\n",
      "99\n"
     ]
    }
   ],
   "source": [
    "a =  99\n",
    "print(int(a))\n",
    "print(float(a))\n",
    "print(str(a))"
   ]
  },
  {
   "cell_type": "raw",
   "id": "2d1afd70",
   "metadata": {},
   "source": [
    "10. Why does this expression cause an error? How can you fix it?\n",
    "'I have eaten' + 99 + 'burritos.'"
   ]
  },
  {
   "cell_type": "code",
   "execution_count": 5,
   "id": "1064ac8c",
   "metadata": {},
   "outputs": [
    {
     "ename": "TypeError",
     "evalue": "can only concatenate str (not \"int\") to str",
     "output_type": "error",
     "traceback": [
      "\u001b[1;31m---------------------------------------------------------------------------\u001b[0m",
      "\u001b[1;31mTypeError\u001b[0m                                 Traceback (most recent call last)",
      "\u001b[1;32m~\\AppData\\Local\\Temp/ipykernel_11464/265137553.py\u001b[0m in \u001b[0;36m<module>\u001b[1;34m\u001b[0m\n\u001b[1;32m----> 1\u001b[1;33m \u001b[1;34m'I have eaten'\u001b[0m \u001b[1;33m+\u001b[0m \u001b[1;36m99\u001b[0m \u001b[1;33m+\u001b[0m  \u001b[1;34m'burritos.'\u001b[0m\u001b[1;33m\u001b[0m\u001b[1;33m\u001b[0m\u001b[0m\n\u001b[0m",
      "\u001b[1;31mTypeError\u001b[0m: can only concatenate str (not \"int\") to str"
     ]
    }
   ],
   "source": [
    "'I have eaten' + 99 +  'burritos.'"
   ]
  },
  {
   "cell_type": "code",
   "execution_count": null,
   "id": "ade1eeda",
   "metadata": {},
   "outputs": [],
   "source": [
    "In above expresson we are trying to concatenate string data type and int data type. We cannot concatenate a string data \n",
    "type and a int data type. 'I have eaten' is string data type while 99 is a int data type."
   ]
  }
 ],
 "metadata": {
  "kernelspec": {
   "display_name": "Python 3 (ipykernel)",
   "language": "python",
   "name": "python3"
  },
  "language_info": {
   "codemirror_mode": {
    "name": "ipython",
    "version": 3
   },
   "file_extension": ".py",
   "mimetype": "text/x-python",
   "name": "python",
   "nbconvert_exporter": "python",
   "pygments_lexer": "ipython3",
   "version": "3.9.7"
  }
 },
 "nbformat": 4,
 "nbformat_minor": 5
}
